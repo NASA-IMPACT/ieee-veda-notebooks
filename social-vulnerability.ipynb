{
 "cells": [
  {
   "attachments": {},
   "cell_type": "markdown",
   "metadata": {},
   "source": [
    "# Social Vulnerability Index (Overall)\n",
    "This notebook demostrates how to discover, open and plot data from the EO API\n",
    "\n",
    "Author: Aimee Barciauskas, Slesa Adhikari\n",
    "Lasted Updated Date: July 12, 2023"
   ]
  },
  {
   "attachments": {},
   "cell_type": "markdown",
   "metadata": {},
   "source": [
    "## About the data\n",
    "CDC's Social Vulnerability Index (SVI) uses 15 variables at the census tract level. The data comes from the U.S. decennial census for the years 2000 & 2010, and the American Community Survey (ACS) for the years 2014, 2016, and 2018. It is a hierarchical additive index (Tate, 2013), with the component elements of CDC’s SVI including the following for 4 themes: Socioeconomic Status, Household Composition & Disability, Minority Status & Language, and Housing Type & Transportation.\n",
    "\n",
    "SVI indicates the relative vulnerability of every U.S. Census tract–subdivisions of counties for which the Census collects statistical data. SVI ranks the tracts on 15 social factors, including unemployment, minority status, and disability, and further groups them into four related themes. Thus, each tract receives a ranking for each Census variable and for each of the four themes, as well as an overall ranking.\n",
    "\n",
    "## Scientific research\n",
    "The SVI Overall Score provides the overall, summed social vulnerability score for a given tract. The Overall Score SVI Grid is part of the U.S. Census Grids collection, and displays the Center for Disease Control & Prevention (CDC) SVI score. Funding for the final development, processing and dissemination of this data set by the Socioeconomic Data and Applications Center (SEDAC) was provided under the U.S. National Aeronautics and Space Administration (NASA)¹.\n",
    "\n",
    "The Overall SVI Score describes the vulnerability in a given county tract based on the combined percentile ranking of the four SVI scores (Socioeconomic Status, Household Composition & Disability, Minority Status & Language, and Housing Type & Transportation). The summed percentile ranking from the four themes is ordered, and then used to calculate an overall percentile ranking, ranging from 0 (less vulnerable) to 1 (more vulnerable)². Tracts with higher Overall SVI Scores typically rank high in other SVI domains, and reveal communities that may require extra support, resources, and preventative care in order to better prepare for and manage emergency situations.\n",
    "\n",
    "## Interpreting the data\n",
    "The Overall SVI Score describes the vulnerability in a given county tract based on the combined percentile ranking of the four SVI scores (Socioeconomic Status, Household Composition & Disability, Minority Status & Language, and Housing Type & Transportation). The summed percentile ranking from the four themes is ordered, and then used to calculate an overall percentile ranking, ranging from 0 (less vulnerable) to 1 (more vulnerable)². Tracts with higher Overall SVI Scores typically rank high in other SVI domains, and reveal communities that may require extra support, resources, and preventative care in order to better prepare for and manage emergency situations.\n",
    "\n",
    "## Credits\n",
    "Center for International Earth Science Information Network, (CIESIN), Columbia University. 2021. Documentation for the U.S. Social Vulnerability Index Grids. Palisades, NY: NASA Socioeconomic Data and Applications Center (SEDAC). https://doi.org/10.7927/fjr9-a973. Accessed 13 May 2022.\n",
    "\n",
    "Centers for Disease Control and Prevention/ Agency for Toxic Substances and Disease Registry/ Geospatial Research, Analysis, and Services Program. CDC/ATSDR Social Vulnerability Index Database. https://www.atsdr.cdc.gov/placeandhealth/svi/documentation/pdf/SVI2018Documentation_01192022_1.pdf"
   ]
  },
  {
   "attachments": {},
   "cell_type": "markdown",
   "metadata": {},
   "source": [
    "## Accessing the data"
   ]
  },
  {
   "attachments": {},
   "cell_type": "markdown",
   "metadata": {},
   "source": [
    "Let's import all the Nessesary libraries"
   ]
  },
  {
   "cell_type": "code",
   "execution_count": 2,
   "metadata": {},
   "outputs": [],
   "source": [
    "# imports\n",
    "import requests\n",
    "from pystac_client import Client\n",
    "import folium"
   ]
  },
  {
   "attachments": {},
   "cell_type": "markdown",
   "metadata": {},
   "source": [
    "Define the API endpoints.\n",
    "The following two APIs are deployed to the IEEE GRSS AWS account.\n",
    "- `STAC_API_URL`: URL to the Spatio Temporal Asset Catalog (STAC) catalog\n",
    "- `RASTER_API_URL`: URL to the dynamic tiler (TiTiler) endpoint"
   ]
  },
  {
   "cell_type": "code",
   "execution_count": 3,
   "metadata": {},
   "outputs": [],
   "source": [
    "STAC_API_URL = \"https://2311pup4hj.execute-api.us-west-2.amazonaws.com\"\n",
    "RASTER_API_URL = \"https://ducbzwnzhb.execute-api.us-west-2.amazonaws.com\""
   ]
  },
  {
   "attachments": {},
   "cell_type": "markdown",
   "metadata": {},
   "source": [
    "Define the collection of interest. Here we'll look at the `social-vulnerability-index-overall` dataset."
   ]
  },
  {
   "cell_type": "code",
   "execution_count": 4,
   "metadata": {},
   "outputs": [],
   "source": [
    "collection_id = \"social-vulnerability-index-overall\""
   ]
  },
  {
   "attachments": {},
   "cell_type": "markdown",
   "metadata": {},
   "source": [
    "Use `pystac_client` client to open the catalog, and search for items in the collection"
   ]
  },
  {
   "cell_type": "code",
   "execution_count": 5,
   "metadata": {},
   "outputs": [
    {
     "data": {
      "text/plain": [
       "[<Item id=svi_2018_tract_overall_wgs84_cog>,\n",
       " <Item id=svi_2016_tract_overall_wgs84_cog>,\n",
       " <Item id=svi_2014_tract_overall_wgs84_cog>,\n",
       " <Item id=svi_2010_tract_overall_wgs84_cog>,\n",
       " <Item id=svi_2000_tract_overall_wgs84_cog>]"
      ]
     },
     "execution_count": 5,
     "metadata": {},
     "output_type": "execute_result"
    }
   ],
   "source": [
    "catalog = Client.open(STAC_API_URL)\n",
    "search = catalog.search(collections=[collection_id])\n",
    "items = list(search.items())\n",
    "items"
   ]
  },
  {
   "attachments": {},
   "cell_type": "markdown",
   "metadata": {},
   "source": [
    "Let's inspect one of the item's assets. In the catalog, the cloud optimized geotiffs (COG) are indexed under `cog_default` asset."
   ]
  },
  {
   "cell_type": "code",
   "execution_count": 6,
   "metadata": {},
   "outputs": [],
   "source": [
    "s3_uri = items[0].assets[\"cog_default\"].href"
   ]
  },
  {
   "attachments": {},
   "cell_type": "markdown",
   "metadata": {},
   "source": [
    "Get statistics for the COG file using the TiTiler api endpoint `/cog/statistics`"
   ]
  },
  {
   "cell_type": "code",
   "execution_count": 7,
   "metadata": {},
   "outputs": [
    {
     "data": {
      "text/plain": [
       "{'b1': {'min': 0.0,\n",
       "  'max': 0.9998000264167786,\n",
       "  'mean': 0.5843708210592843,\n",
       "  'count': 92166.0,\n",
       "  'sum': 53859.12109375,\n",
       "  'std': 0.27337772204503596,\n",
       "  'median': 0.5983999967575073,\n",
       "  'majority': 0.9014999866485596,\n",
       "  'minority': 9.999999747378752e-05,\n",
       "  'unique': 8143.0,\n",
       "  'histogram': [[3361.0,\n",
       "    6051.0,\n",
       "    8673.0,\n",
       "    8752.0,\n",
       "    9476.0,\n",
       "    9934.0,\n",
       "    10225.0,\n",
       "    8652.0,\n",
       "    7939.0,\n",
       "    19103.0],\n",
       "   [0.0,\n",
       "    0.09998000413179398,\n",
       "    0.19996000826358795,\n",
       "    0.2999400198459625,\n",
       "    0.3999200165271759,\n",
       "    0.4999000132083893,\n",
       "    0.599880039691925,\n",
       "    0.6998600363731384,\n",
       "    0.7998400330543518,\n",
       "    0.8998200297355652,\n",
       "    0.9998000264167786]],\n",
       "  'valid_percent': 18.63,\n",
       "  'masked_pixels': 402426.0,\n",
       "  'valid_pixels': 92166.0,\n",
       "  'percentile_2': 0.07612999975681305,\n",
       "  'percentile_98': 0.9794999957084656}}"
      ]
     },
     "execution_count": 7,
     "metadata": {},
     "output_type": "execute_result"
    }
   ],
   "source": [
    "stats = requests.get(\n",
    "    f\"{RASTER_API_URL}/cog/statistics\",\n",
    "    params={\"url\": s3_uri}\n",
    ").json()\n",
    "stats"
   ]
  },
  {
   "attachments": {},
   "cell_type": "markdown",
   "metadata": {},
   "source": [
    "Define the query parameters:\n",
    "- collection\n",
    "- item\n",
    "- rescale\n",
    "- colormap\n",
    "- assets"
   ]
  },
  {
   "cell_type": "code",
   "execution_count": 18,
   "metadata": {},
   "outputs": [],
   "source": [
    "collection = collection_id\n",
    "item = items[0].id\n",
    "rescale = f\"{stats['b1']['min']},{stats['b1']['max']}\"\n",
    "colormap = \"ylgnbu\"\n",
    "assets = \"cog_default\""
   ]
  },
  {
   "cell_type": "markdown",
   "metadata": {},
   "source": [
    "Using the raster api, get the tileset json for the relevant item"
   ]
  },
  {
   "cell_type": "code",
   "execution_count": 26,
   "metadata": {},
   "outputs": [],
   "source": [
    "tiles = requests.get(\n",
    "    f\"{RASTER_API_URL}/stac/tilejson.json?collection={collection}&item={item}&assets={assets}&colormap_name={colormap}&rescale={rescale}\"\n",
    ").json()"
   ]
  },
  {
   "cell_type": "code",
   "execution_count": 27,
   "metadata": {},
   "outputs": [
    {
     "data": {
      "text/plain": [
       "{'tilejson': '2.2.0',\n",
       " 'version': '1.0.0',\n",
       " 'scheme': 'xyz',\n",
       " 'tiles': ['https://ducbzwnzhb.execute-api.us-west-2.amazonaws.com/stac/tiles/WebMercatorQuad/{z}/{x}/{y}@1x?collection=social-vulnerability-index-overall&item=svi_2018_tract_overall_wgs84_cog&assets=cog_default&colormap_name=ylgnbu&rescale=0.0%2C0.9998000264167786'],\n",
       " 'minzoom': 0,\n",
       " 'maxzoom': 24,\n",
       " 'bounds': [-178.23333334, 18.908332897999998, -66.958333785, 71.383332688],\n",
       " 'center': [-122.59583356249999, 45.145832793, 0]}"
      ]
     },
     "execution_count": 27,
     "metadata": {},
     "output_type": "execute_result"
    }
   ],
   "source": [
    "tiles"
   ]
  },
  {
   "cell_type": "markdown",
   "metadata": {},
   "source": [
    "Use the tiles endpoint to visualize the tile in a map"
   ]
  },
  {
   "cell_type": "code",
   "execution_count": 45,
   "metadata": {},
   "outputs": [],
   "source": [
    "m = folium.Map(\n",
    "    location=[38.4393781,-107.225043],\n",
    "    zoom_start=4,\n",
    "    scroll_wheel_zoom=True, \n",
    "    tiles=tiles[\"tiles\"][0], \n",
    "    attr=\"VEDA\", \n",
    "    minzoom=0, \n",
    "    maxzoom=18,\n",
    ")"
   ]
  },
  {
   "attachments": {},
   "cell_type": "markdown",
   "metadata": {},
   "source": [
    "Display the map"
   ]
  },
  {
   "cell_type": "code",
   "execution_count": 46,
   "metadata": {},
   "outputs": [
    {
     "data": {
      "text/html": [
       "<div style=\"width:100%;\"><div style=\"position:relative;width:100%;height:0;padding-bottom:60%;\"><span style=\"color:#565656\">Make this Notebook Trusted to load map: File -> Trust Notebook</span><iframe srcdoc=\"&lt;!DOCTYPE html&gt;\n",
       "&lt;html&gt;\n",
       "&lt;head&gt;\n",
       "    \n",
       "    &lt;meta http-equiv=&quot;content-type&quot; content=&quot;text/html; charset=UTF-8&quot; /&gt;\n",
       "    \n",
       "        &lt;script&gt;\n",
       "            L_NO_TOUCH = false;\n",
       "            L_DISABLE_3D = false;\n",
       "        &lt;/script&gt;\n",
       "    \n",
       "    &lt;style&gt;html, body {width: 100%;height: 100%;margin: 0;padding: 0;}&lt;/style&gt;\n",
       "    &lt;style&gt;#map {position:absolute;top:0;bottom:0;right:0;left:0;}&lt;/style&gt;\n",
       "    &lt;script src=&quot;https://cdn.jsdelivr.net/npm/leaflet@1.9.3/dist/leaflet.js&quot;&gt;&lt;/script&gt;\n",
       "    &lt;script src=&quot;https://code.jquery.com/jquery-1.12.4.min.js&quot;&gt;&lt;/script&gt;\n",
       "    &lt;script src=&quot;https://cdn.jsdelivr.net/npm/bootstrap@5.2.2/dist/js/bootstrap.bundle.min.js&quot;&gt;&lt;/script&gt;\n",
       "    &lt;script src=&quot;https://cdnjs.cloudflare.com/ajax/libs/Leaflet.awesome-markers/2.0.2/leaflet.awesome-markers.js&quot;&gt;&lt;/script&gt;\n",
       "    &lt;link rel=&quot;stylesheet&quot; href=&quot;https://cdn.jsdelivr.net/npm/leaflet@1.9.3/dist/leaflet.css&quot;/&gt;\n",
       "    &lt;link rel=&quot;stylesheet&quot; href=&quot;https://cdn.jsdelivr.net/npm/bootstrap@5.2.2/dist/css/bootstrap.min.css&quot;/&gt;\n",
       "    &lt;link rel=&quot;stylesheet&quot; href=&quot;https://netdna.bootstrapcdn.com/bootstrap/3.0.0/css/bootstrap.min.css&quot;/&gt;\n",
       "    &lt;link rel=&quot;stylesheet&quot; href=&quot;https://cdn.jsdelivr.net/npm/@fortawesome/fontawesome-free@6.2.0/css/all.min.css&quot;/&gt;\n",
       "    &lt;link rel=&quot;stylesheet&quot; href=&quot;https://cdnjs.cloudflare.com/ajax/libs/Leaflet.awesome-markers/2.0.2/leaflet.awesome-markers.css&quot;/&gt;\n",
       "    &lt;link rel=&quot;stylesheet&quot; href=&quot;https://cdn.jsdelivr.net/gh/python-visualization/folium/folium/templates/leaflet.awesome.rotate.min.css&quot;/&gt;\n",
       "    \n",
       "            &lt;meta name=&quot;viewport&quot; content=&quot;width=device-width,\n",
       "                initial-scale=1.0, maximum-scale=1.0, user-scalable=no&quot; /&gt;\n",
       "            &lt;style&gt;\n",
       "                #map_0d0268b9f40bceef7009a67eb524fde8 {\n",
       "                    position: relative;\n",
       "                    width: 100.0%;\n",
       "                    height: 100.0%;\n",
       "                    left: 0.0%;\n",
       "                    top: 0.0%;\n",
       "                }\n",
       "                .leaflet-container { font-size: 1rem; }\n",
       "            &lt;/style&gt;\n",
       "        \n",
       "&lt;/head&gt;\n",
       "&lt;body&gt;\n",
       "    \n",
       "    \n",
       "            &lt;div class=&quot;folium-map&quot; id=&quot;map_0d0268b9f40bceef7009a67eb524fde8&quot; &gt;&lt;/div&gt;\n",
       "        \n",
       "&lt;/body&gt;\n",
       "&lt;script&gt;\n",
       "    \n",
       "    \n",
       "            var map_0d0268b9f40bceef7009a67eb524fde8 = L.map(\n",
       "                &quot;map_0d0268b9f40bceef7009a67eb524fde8&quot;,\n",
       "                {\n",
       "                    center: [38.4393781, -107.225043],\n",
       "                    crs: L.CRS.EPSG3857,\n",
       "                    zoom: 4,\n",
       "                    zoomControl: true,\n",
       "                    preferCanvas: false,\n",
       "                    scrollWheelZoom: true,\n",
       "                    minzoom: 0,\n",
       "                    maxzoom: 18,\n",
       "                }\n",
       "            );\n",
       "\n",
       "            \n",
       "\n",
       "        \n",
       "    \n",
       "            var tile_layer_27a350b8c78304b2f6095d3eead45964 = L.tileLayer(\n",
       "                &quot;https://ducbzwnzhb.execute-api.us-west-2.amazonaws.com/stac/tiles/WebMercatorQuad/{z}/{x}/{y}@1x?collection=social-vulnerability-index-overall\\u0026item=svi_2018_tract_overall_wgs84_cog\\u0026assets=cog_default\\u0026colormap_name=ylgnbu\\u0026rescale=0.0%2C0.9998000264167786&quot;,\n",
       "                {&quot;attribution&quot;: &quot;VEDA&quot;, &quot;detectRetina&quot;: false, &quot;maxNativeZoom&quot;: 18, &quot;maxZoom&quot;: 18, &quot;minZoom&quot;: 0, &quot;noWrap&quot;: false, &quot;opacity&quot;: 1, &quot;subdomains&quot;: &quot;abc&quot;, &quot;tms&quot;: false}\n",
       "            ).addTo(map_0d0268b9f40bceef7009a67eb524fde8);\n",
       "        \n",
       "&lt;/script&gt;\n",
       "&lt;/html&gt;\" style=\"position:absolute;width:100%;height:100%;left:0;top:0;border:none !important;\" allowfullscreen webkitallowfullscreen mozallowfullscreen></iframe></div></div>"
      ],
      "text/plain": [
       "<folium.folium.Map at 0x11c8ef950>"
      ]
     },
     "execution_count": 46,
     "metadata": {},
     "output_type": "execute_result"
    }
   ],
   "source": [
    "m"
   ]
  },
  {
   "cell_type": "code",
   "execution_count": null,
   "metadata": {},
   "outputs": [],
   "source": []
  }
 ],
 "metadata": {
  "kernelspec": {
   "display_name": ".venv",
   "language": "python",
   "name": "python3"
  },
  "language_info": {
   "codemirror_mode": {
    "name": "ipython",
    "version": 3
   },
   "file_extension": ".py",
   "mimetype": "text/x-python",
   "name": "python",
   "nbconvert_exporter": "python",
   "pygments_lexer": "ipython3",
   "version": "3.11.3"
  },
  "orig_nbformat": 4,
  "vscode": {
   "interpreter": {
    "hash": "79c3809b90b291597ca4257da85504a10f4f26d7aa51089903fc53af989fb5ec"
   }
  }
 },
 "nbformat": 4,
 "nbformat_minor": 2
}
