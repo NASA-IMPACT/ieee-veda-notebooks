{
 "cells": [
  {
   "cell_type": "code",
   "execution_count": 5,
   "metadata": {},
   "outputs": [],
   "source": [
    "# imports\n",
    "import requests\n",
    "from pystac_client import Client\n",
    "import folium"
   ]
  },
  {
   "cell_type": "code",
   "execution_count": 6,
   "metadata": {},
   "outputs": [],
   "source": [
    "STAC_API_URL = \"https://2311pup4hj.execute-api.us-west-2.amazonaws.com\"\n",
    "RASTER_API_URL = \"https://ducbzwnzhb.execute-api.us-west-2.amazonaws.com\""
   ]
  },
  {
   "cell_type": "code",
   "execution_count": 7,
   "metadata": {},
   "outputs": [],
   "source": [
    "catalog = Client.open(STAC_API_URL)"
   ]
  },
  {
   "cell_type": "code",
   "execution_count": 8,
   "metadata": {},
   "outputs": [
    {
     "data": {
      "text/plain": [
       "[<Item id=svi_2018_tract_overall_wgs84_cog>,\n",
       " <Item id=svi_2016_tract_overall_wgs84_cog>,\n",
       " <Item id=svi_2014_tract_overall_wgs84_cog>,\n",
       " <Item id=svi_2010_tract_overall_wgs84_cog>,\n",
       " <Item id=svi_2000_tract_overall_wgs84_cog>]"
      ]
     },
     "execution_count": 8,
     "metadata": {},
     "output_type": "execute_result"
    }
   ],
   "source": [
    "collection_id = \"social-vulnerability-index-overall\"\n",
    "search = catalog.search(collections=[collection_id])\n",
    "items = list(search.items())\n",
    "items"
   ]
  },
  {
   "cell_type": "code",
   "execution_count": 9,
   "metadata": {},
   "outputs": [],
   "source": [
    "s3_uri = items[0].assets[\"cog_default\"].href"
   ]
  },
  {
   "cell_type": "code",
   "execution_count": 10,
   "metadata": {},
   "outputs": [
    {
     "data": {
      "text/plain": [
       "{'b1': {'min': 0.0,\n",
       "  'max': 0.9998000264167786,\n",
       "  'mean': 0.5843708210592843,\n",
       "  'count': 92166.0,\n",
       "  'sum': 53859.12109375,\n",
       "  'std': 0.27337772204503596,\n",
       "  'median': 0.5983999967575073,\n",
       "  'majority': 0.9014999866485596,\n",
       "  'minority': 9.999999747378752e-05,\n",
       "  'unique': 8143.0,\n",
       "  'histogram': [[3361.0,\n",
       "    6051.0,\n",
       "    8673.0,\n",
       "    8752.0,\n",
       "    9476.0,\n",
       "    9934.0,\n",
       "    10225.0,\n",
       "    8652.0,\n",
       "    7939.0,\n",
       "    19103.0],\n",
       "   [0.0,\n",
       "    0.09998000413179398,\n",
       "    0.19996000826358795,\n",
       "    0.2999400198459625,\n",
       "    0.3999200165271759,\n",
       "    0.4999000132083893,\n",
       "    0.599880039691925,\n",
       "    0.6998600363731384,\n",
       "    0.7998400330543518,\n",
       "    0.8998200297355652,\n",
       "    0.9998000264167786]],\n",
       "  'valid_percent': 18.63,\n",
       "  'masked_pixels': 402426.0,\n",
       "  'valid_pixels': 92166.0,\n",
       "  'percentile_2': 0.07612999975681305,\n",
       "  'percentile_98': 0.9794999957084656}}"
      ]
     },
     "execution_count": 10,
     "metadata": {},
     "output_type": "execute_result"
    }
   ],
   "source": [
    "stats = requests.get(\n",
    "    f\"{RASTER_API_URL}/cog/statistics\",\n",
    "    params={\"url\": s3_uri}\n",
    ").json()\n",
    "stats"
   ]
  },
  {
   "cell_type": "code",
   "execution_count": 11,
   "metadata": {},
   "outputs": [],
   "source": [
    "rescale = f\"{stats['b1']['min']},{stats['b1']['max']}\""
   ]
  },
  {
   "cell_type": "code",
   "execution_count": 12,
   "metadata": {},
   "outputs": [],
   "source": [
    "tiles = requests.get(\n",
    "    f\"{RASTER_API_URL}/stac/tilejson.json?collection={collection_id}&item={items[0].id}&assets=cog_default&colormap_name=rdbu_r&rescale={rescale}\"\n",
    ").json()"
   ]
  },
  {
   "cell_type": "code",
   "execution_count": 13,
   "metadata": {},
   "outputs": [
    {
     "data": {
      "text/plain": [
       "{'tilejson': '2.2.0',\n",
       " 'version': '1.0.0',\n",
       " 'scheme': 'xyz',\n",
       " 'tiles': ['https://ducbzwnzhb.execute-api.us-west-2.amazonaws.com/stac/tiles/WebMercatorQuad/{z}/{x}/{y}@1x?collection=social-vulnerability-index-overall&item=svi_2018_tract_overall_wgs84_cog&assets=cog_default&colormap_name=rdbu_r&rescale=0.0%2C0.9998000264167786'],\n",
       " 'minzoom': 0,\n",
       " 'maxzoom': 24,\n",
       " 'bounds': [-178.23333334, 18.908332897999998, -66.958333785, 71.383332688],\n",
       " 'center': [-122.59583356249999, 45.145832793, 0]}"
      ]
     },
     "execution_count": 13,
     "metadata": {},
     "output_type": "execute_result"
    }
   ],
   "source": [
    "tiles"
   ]
  },
  {
   "cell_type": "code",
   "execution_count": 14,
   "metadata": {},
   "outputs": [],
   "source": [
    "m = folium.Map(\n",
    "    zoom_start=6,\n",
    "    scroll_wheel_zoom=True, \n",
    "    tiles=tiles[\"tiles\"][0], \n",
    "    attr=\"VEDA\", \n",
    "    minzoom=0, \n",
    "    maxzoom=18,\n",
    ")"
   ]
  },
  {
   "cell_type": "code",
   "execution_count": 15,
   "metadata": {},
   "outputs": [
    {
     "data": {
      "text/html": [
       "<div style=\"width:100%;\"><div style=\"position:relative;width:100%;height:0;padding-bottom:60%;\"><span style=\"color:#565656\">Make this Notebook Trusted to load map: File -> Trust Notebook</span><iframe srcdoc=\"&lt;!DOCTYPE html&gt;\n",
       "&lt;html&gt;\n",
       "&lt;head&gt;\n",
       "    \n",
       "    &lt;meta http-equiv=&quot;content-type&quot; content=&quot;text/html; charset=UTF-8&quot; /&gt;\n",
       "    \n",
       "        &lt;script&gt;\n",
       "            L_NO_TOUCH = false;\n",
       "            L_DISABLE_3D = false;\n",
       "        &lt;/script&gt;\n",
       "    \n",
       "    &lt;style&gt;html, body {width: 100%;height: 100%;margin: 0;padding: 0;}&lt;/style&gt;\n",
       "    &lt;style&gt;#map {position:absolute;top:0;bottom:0;right:0;left:0;}&lt;/style&gt;\n",
       "    &lt;script src=&quot;https://cdn.jsdelivr.net/npm/leaflet@1.9.3/dist/leaflet.js&quot;&gt;&lt;/script&gt;\n",
       "    &lt;script src=&quot;https://code.jquery.com/jquery-1.12.4.min.js&quot;&gt;&lt;/script&gt;\n",
       "    &lt;script src=&quot;https://cdn.jsdelivr.net/npm/bootstrap@5.2.2/dist/js/bootstrap.bundle.min.js&quot;&gt;&lt;/script&gt;\n",
       "    &lt;script src=&quot;https://cdnjs.cloudflare.com/ajax/libs/Leaflet.awesome-markers/2.0.2/leaflet.awesome-markers.js&quot;&gt;&lt;/script&gt;\n",
       "    &lt;link rel=&quot;stylesheet&quot; href=&quot;https://cdn.jsdelivr.net/npm/leaflet@1.9.3/dist/leaflet.css&quot;/&gt;\n",
       "    &lt;link rel=&quot;stylesheet&quot; href=&quot;https://cdn.jsdelivr.net/npm/bootstrap@5.2.2/dist/css/bootstrap.min.css&quot;/&gt;\n",
       "    &lt;link rel=&quot;stylesheet&quot; href=&quot;https://netdna.bootstrapcdn.com/bootstrap/3.0.0/css/bootstrap.min.css&quot;/&gt;\n",
       "    &lt;link rel=&quot;stylesheet&quot; href=&quot;https://cdn.jsdelivr.net/npm/@fortawesome/fontawesome-free@6.2.0/css/all.min.css&quot;/&gt;\n",
       "    &lt;link rel=&quot;stylesheet&quot; href=&quot;https://cdnjs.cloudflare.com/ajax/libs/Leaflet.awesome-markers/2.0.2/leaflet.awesome-markers.css&quot;/&gt;\n",
       "    &lt;link rel=&quot;stylesheet&quot; href=&quot;https://cdn.jsdelivr.net/gh/python-visualization/folium/folium/templates/leaflet.awesome.rotate.min.css&quot;/&gt;\n",
       "    \n",
       "            &lt;meta name=&quot;viewport&quot; content=&quot;width=device-width,\n",
       "                initial-scale=1.0, maximum-scale=1.0, user-scalable=no&quot; /&gt;\n",
       "            &lt;style&gt;\n",
       "                #map_2d5eed0470f4ceebdd850558b8747218 {\n",
       "                    position: relative;\n",
       "                    width: 100.0%;\n",
       "                    height: 100.0%;\n",
       "                    left: 0.0%;\n",
       "                    top: 0.0%;\n",
       "                }\n",
       "                .leaflet-container { font-size: 1rem; }\n",
       "            &lt;/style&gt;\n",
       "        \n",
       "&lt;/head&gt;\n",
       "&lt;body&gt;\n",
       "    \n",
       "    \n",
       "            &lt;div class=&quot;folium-map&quot; id=&quot;map_2d5eed0470f4ceebdd850558b8747218&quot; &gt;&lt;/div&gt;\n",
       "        \n",
       "&lt;/body&gt;\n",
       "&lt;script&gt;\n",
       "    \n",
       "    \n",
       "            var map_2d5eed0470f4ceebdd850558b8747218 = L.map(\n",
       "                &quot;map_2d5eed0470f4ceebdd850558b8747218&quot;,\n",
       "                {\n",
       "                    center: [0, 0],\n",
       "                    crs: L.CRS.EPSG3857,\n",
       "                    zoom: 1,\n",
       "                    zoomControl: true,\n",
       "                    preferCanvas: false,\n",
       "                    scrollWheelZoom: true,\n",
       "                    minzoom: 0,\n",
       "                    maxzoom: 18,\n",
       "                }\n",
       "            );\n",
       "\n",
       "            \n",
       "\n",
       "        \n",
       "    \n",
       "            var tile_layer_e7043d0472c9eb38d80c4199aaa2f58c = L.tileLayer(\n",
       "                &quot;https://ducbzwnzhb.execute-api.us-west-2.amazonaws.com/stac/tiles/WebMercatorQuad/{z}/{x}/{y}@1x?collection=social-vulnerability-index-overall\\u0026item=svi_2018_tract_overall_wgs84_cog\\u0026assets=cog_default\\u0026colormap_name=rdbu_r\\u0026rescale=0.0%2C0.9998000264167786&quot;,\n",
       "                {&quot;attribution&quot;: &quot;VEDA&quot;, &quot;detectRetina&quot;: false, &quot;maxNativeZoom&quot;: 18, &quot;maxZoom&quot;: 18, &quot;minZoom&quot;: 0, &quot;noWrap&quot;: false, &quot;opacity&quot;: 1, &quot;subdomains&quot;: &quot;abc&quot;, &quot;tms&quot;: false}\n",
       "            ).addTo(map_2d5eed0470f4ceebdd850558b8747218);\n",
       "        \n",
       "&lt;/script&gt;\n",
       "&lt;/html&gt;\" style=\"position:absolute;width:100%;height:100%;left:0;top:0;border:none !important;\" allowfullscreen webkitallowfullscreen mozallowfullscreen></iframe></div></div>"
      ],
      "text/plain": [
       "<folium.folium.Map at 0x120c31390>"
      ]
     },
     "execution_count": 15,
     "metadata": {},
     "output_type": "execute_result"
    }
   ],
   "source": [
    "m"
   ]
  },
  {
   "cell_type": "code",
   "execution_count": null,
   "metadata": {},
   "outputs": [],
   "source": []
  }
 ],
 "metadata": {
  "kernelspec": {
   "display_name": ".venv",
   "language": "python",
   "name": "python3"
  },
  "language_info": {
   "codemirror_mode": {
    "name": "ipython",
    "version": 3
   },
   "file_extension": ".py",
   "mimetype": "text/x-python",
   "name": "python",
   "nbconvert_exporter": "python",
   "pygments_lexer": "ipython3",
   "version": "3.11.3"
  },
  "orig_nbformat": 4,
  "vscode": {
   "interpreter": {
    "hash": "79c3809b90b291597ca4257da85504a10f4f26d7aa51089903fc53af989fb5ec"
   }
  }
 },
 "nbformat": 4,
 "nbformat_minor": 2
}
